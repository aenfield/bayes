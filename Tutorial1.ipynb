{
 "metadata": {
  "name": "",
  "signature": "sha256:bd026174706c4af31b858a0973c368924933af26bcbd17607474f18ada0e9551"
 },
 "nbformat": 3,
 "nbformat_minor": 0,
 "worksheets": [
  {
   "cells": [
    {
     "cell_type": "heading",
     "level": 1,
     "metadata": {},
     "source": [
      "A first simple notebook"
     ]
    },
    {
     "cell_type": "markdown",
     "metadata": {},
     "source": [
      "Let's start with some **bold** Markdown text, with $italics$ too."
     ]
    },
    {
     "cell_type": "code",
     "collapsed": false,
     "input": [
      "%pylab inline"
     ],
     "language": "python",
     "metadata": {},
     "outputs": [
      {
       "output_type": "stream",
       "stream": "stdout",
       "text": [
        "Populating the interactive namespace from numpy and matplotlib\n"
       ]
      }
     ],
     "prompt_number": 1
    },
    {
     "cell_type": "code",
     "collapsed": false,
     "input": [
      "x = linspace(0, 10)\n",
      "y = sin(x)\n",
      "plot(x, y)"
     ],
     "language": "python",
     "metadata": {},
     "outputs": [
      {
       "metadata": {},
       "output_type": "pyout",
       "prompt_number": 2,
       "text": [
        "[<matplotlib.lines.Line2D at 0x10d62ee90>]"
       ]
      },
      {
       "metadata": {},
       "output_type": "display_data",
       "png": "[encoded data removed]",
       "text": [
        "<matplotlib.figure.Figure at 0x10d58ead0>"
       ]
      }
     ],
     "prompt_number": 2
    },
    {
     "cell_type": "code",
     "collapsed": false,
     "input": [
      "x"
     ],
     "language": "python",
     "metadata": {},
     "outputs": [
      {
       "metadata": {},
       "output_type": "pyout",
       "prompt_number": 3,
       "text": [
        "array([  0.        ,   0.20408163,   0.40816327,   0.6122449 ,\n",
        "         0.81632653,   1.02040816,   1.2244898 ,   1.42857143,\n",
        "         1.63265306,   1.83673469,   2.04081633,   2.24489796,\n",
        "         2.44897959,   2.65306122,   2.85714286,   3.06122449,\n",
        "         3.26530612,   3.46938776,   3.67346939,   3.87755102,\n",
        "         4.08163265,   4.28571429,   4.48979592,   4.69387755,\n",
        "         4.89795918,   5.10204082,   5.30612245,   5.51020408,\n",
        "         5.71428571,   5.91836735,   6.12244898,   6.32653061,\n",
        "         6.53061224,   6.73469388,   6.93877551,   7.14285714,\n",
        "         7.34693878,   7.55102041,   7.75510204,   7.95918367,\n",
        "         8.16326531,   8.36734694,   8.57142857,   8.7755102 ,\n",
        "         8.97959184,   9.18367347,   9.3877551 ,   9.59183673,\n",
        "         9.79591837,  10.        ])"
       ]
      }
     ],
     "prompt_number": 3
    },
    {
     "cell_type": "code",
     "collapsed": false,
     "input": [],
     "language": "python",
     "metadata": {},
     "outputs": []
    }
   ],
   "metadata": {}
  }
 ]
}